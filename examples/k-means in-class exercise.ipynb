{
 "cells": [
  {
   "cell_type": "markdown",
   "id": "7c05ccfd",
   "metadata": {},
   "source": [
    "<h1> <center> Example code from lectures on k-means clustering<br>\n",
    "cs4262 </center> </h1>\n",
    "<h2><center> Author: Jonathan Sprinkle <br>\n",
    "Copyright (c) 2023 Vanderbilt University </center></h2>\n",
    "\n",
    "The goal of $k$-means clustering is to be able to perform a form of unsupervised learning, namely classifying data that has not yet been labeled with output values $y$ even though input features $x$ are available. For this kind of work, it will be easier to test our approaches if we can synthesize data sets with known results, to test our code."
   ]
  },
  {
   "cell_type": "code",
   "execution_count": 1,
   "id": "7c6cc3bd",
   "metadata": {},
   "outputs": [],
   "source": [
    "# get some likely useful classes\n",
    "import numpy as np\n",
    "from numpy.random import seed\n",
    "from numpy.random import randn\n",
    "import pandas as pandas\n",
    "import matplotlib.pyplot as plt"
   ]
  },
  {
   "cell_type": "markdown",
   "id": "825f4549",
   "metadata": {},
   "source": [
    "# Generate synthetic data\n",
    "\n",
    "Create a function that will generate data in two different regions of the space $\\mathbb{R}^2$. For this synthetic data set, you can distribute them with roughly the same deviations, but at two centroids more than 3x away from the first standard deviation."
   ]
  },
  {
   "cell_type": "code",
   "execution_count": 2,
   "id": "0170e3ae",
   "metadata": {},
   "outputs": [],
   "source": [
    "# create a synthetic data set that can be used to test k-means clustering. \n",
    "# There should be 100 elements (total) in the array, each with two values for x1, and x2\n",
    "# You can decide how many of these 100 elements belongs in each cluster\n",
    "\n"
   ]
  },
  {
   "cell_type": "markdown",
   "id": "277e4dd7",
   "metadata": {},
   "source": [
    "Make the final data set (in two dimensions) an array xs where each element of the array is $[x1, x2]$"
   ]
  },
  {
   "cell_type": "code",
   "execution_count": 3,
   "id": "9026f75c",
   "metadata": {},
   "outputs": [],
   "source": [
    "# ensure that xs represents the set of samples\n"
   ]
  },
  {
   "cell_type": "markdown",
   "id": "61cdfd75",
   "metadata": {},
   "source": [
    "Plot the data and label the axes"
   ]
  },
  {
   "cell_type": "code",
   "execution_count": 4,
   "id": "cf1966c4",
   "metadata": {},
   "outputs": [],
   "source": [
    "# plot the synthetic data\n"
   ]
  },
  {
   "cell_type": "markdown",
   "id": "d8dcc085",
   "metadata": {},
   "source": [
    "# A class to estimate the clusters using k-means"
   ]
  },
  {
   "cell_type": "markdown",
   "id": "4c30329b",
   "metadata": {},
   "source": [
    "Create a python class called kmeans that is initialized with only the estimate of k, and the data to classify. The class should have (at least) the following methods:\n",
    "* PlotModel - plots the data, colors points differently depending on their cluster membership, and indicates the $\\mu$ values; in 2D or 3D this is straightforward, in multiple dimensions, use your judgement on how to plot.\n",
    "* UpdateStep - executes the main set of steps (or call methods for each step)\n",
    "* Run - Performs k-means algorithm; (optional) inputs of array of $\\mu$s can be passed, otherwise randomized values are selected within the range of the min/max of the data values along each axis. Returns the lowest cost according to the distortion function\n",
    "* Cost - returns the current value of the distortion function\n",
    "\n"
   ]
  },
  {
   "cell_type": "code",
   "execution_count": null,
   "id": "44c4e2b1",
   "metadata": {},
   "outputs": [],
   "source": []
  }
 ],
 "metadata": {
  "@webio": {
   "lastCommId": null,
   "lastKernelId": null
  },
  "kernelspec": {
   "display_name": "Python 3 (ipykernel)",
   "language": "python",
   "name": "python3"
  },
  "language_info": {
   "codemirror_mode": {
    "name": "ipython",
    "version": 3
   },
   "file_extension": ".py",
   "mimetype": "text/x-python",
   "name": "python",
   "nbconvert_exporter": "python",
   "pygments_lexer": "ipython3",
   "version": "3.10.8"
  }
 },
 "nbformat": 4,
 "nbformat_minor": 5
}
